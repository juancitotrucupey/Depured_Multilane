{
 "cells": [
  {
   "cell_type": "code",
   "execution_count": 2,
   "metadata": {},
   "outputs": [],
   "source": [
    "import numpy as np"
   ]
  },
  {
   "cell_type": "code",
   "execution_count": 74,
   "metadata": {},
   "outputs": [],
   "source": [
    "cell_lenght=2.75\n",
    "time_step=0.99\n",
    "real_velocity=[0,1,2,3,4,5,6,7,8,9,10,11,12,13,14,15]\n",
    "for ii in range(len(real_velocity)):\n",
    "    real_velocity[ii]=ii*cell_lenght/time_step"
   ]
  },
  {
   "cell_type": "code",
   "execution_count": 93,
   "metadata": {},
   "outputs": [],
   "source": [
    "safe_distance_aceleration=[]\n",
    "acceleration=0.3*9.8\n",
    "for ii in range(len(real_velocity)):\n",
    "    safe_distance_aceleration.append(real_velocity[ii]*real_velocity[ii]/(2*acceleration))"
   ]
  },
  {
   "cell_type": "code",
   "execution_count": 94,
   "metadata": {},
   "outputs": [],
   "source": [
    "import math\n",
    "safe_distance_aceleration_cells=[]\n",
    "for ii in range(len(safe_distance_aceleration)):\n",
    "    safe_distance_aceleration_cells.append(math.ceil(safe_distance_aceleration[ii]/cell_lenght))"
   ]
  },
  {
   "cell_type": "code",
   "execution_count": 95,
   "metadata": {},
   "outputs": [
    {
     "data": {
      "text/plain": [
       "[0, 1, 2, 5, 8, 12, 18, 24, 31, 39, 48, 58, 69, 81, 94, 108]"
      ]
     },
     "execution_count": 95,
     "metadata": {},
     "output_type": "execute_result"
    }
   ],
   "source": [
    "safe_distance_aceleration_cells"
   ]
  },
  {
   "cell_type": "code",
   "execution_count": 96,
   "metadata": {},
   "outputs": [],
   "source": [
    "minimum_next_veloxity=[]\n",
    "for ii in range(len(real_velocity)):\n",
    "    minimum_next_veloxity.append(max(real_velocity[ii]-acceleration*time_step,0))"
   ]
  },
  {
   "cell_type": "code",
   "execution_count": 97,
   "metadata": {},
   "outputs": [],
   "source": [
    "minimum_next_veloxity_cells=[]\n",
    "for ii in range(len(minimum_next_veloxity)):\n",
    "    minimum_next_veloxity_cells.append(math.ceil(minimum_next_veloxity[ii]/(cell_lenght/time_step)))"
   ]
  },
  {
   "cell_type": "code",
   "execution_count": 98,
   "metadata": {},
   "outputs": [
    {
     "data": {
      "text/plain": [
       "[0, 0, 1, 2, 3, 4, 5, 6, 7, 8, 9, 10, 11, 12, 13, 14]"
      ]
     },
     "execution_count": 98,
     "metadata": {},
     "output_type": "execute_result"
    }
   ],
   "source": [
    "minimum_next_veloxity_cells"
   ]
  },
  {
   "cell_type": "code",
   "execution_count": null,
   "metadata": {},
   "outputs": [],
   "source": []
  }
 ],
 "metadata": {
  "kernelspec": {
   "display_name": "TensorFlow_3.6",
   "language": "python",
   "name": "tensorflow_3.6"
  },
  "language_info": {
   "codemirror_mode": {
    "name": "ipython",
    "version": 3
   },
   "file_extension": ".py",
   "mimetype": "text/x-python",
   "name": "python",
   "nbconvert_exporter": "python",
   "pygments_lexer": "ipython3",
   "version": "3.6.6"
  }
 },
 "nbformat": 4,
 "nbformat_minor": 2
}
